{
 "cells": [
  {
   "cell_type": "markdown",
   "id": "9840d18f",
   "metadata": {},
   "source": [
    "# 📊 Analyse de performances de joueurs de football"
   ]
  },
  {
   "cell_type": "markdown",
   "id": "7b380852",
   "metadata": {},
   "source": [
    "# Analyse des performances de joueurs de football\n",
    "\n",
    "Ce notebook analyse les performances de joueurs à partir des données issues de FBref, dans une logique de recrutement basé sur les statistiques avancées.\n",
    "\n",
    "## 1. Chargement des données"
   ]
  },
  {
   "cell_type": "code",
   "execution_count": null,
   "id": "1b933418",
   "metadata": {},
   "outputs": [],
   "source": [
    "import pandas as pd\n",
    "\n",
    "# Charger les données\n",
    "file_path = \"data/data2.0.xlsx\"\n",
    "df = pd.read_excel(file_path, sheet_name=\"Feuille 1\")\n",
    "\n",
    "# Supprimer la première ligne si elle est vide\n",
    "df = df.dropna(how='all')\n",
    "\n",
    "# Aperçu\n",
    "df.head()\n"
   ]
  },
  {
   "cell_type": "markdown",
   "id": "34dadc4d",
   "metadata": {},
   "source": [
    "## 2. Nettoyage initial\n",
    "\n",
    "On convertit les colonnes numériques, on traite les virgules comme séparateurs décimaux si besoin, et on sélectionne les colonnes clés."
   ]
  },
  {
   "cell_type": "code",
   "execution_count": null,
   "id": "9f73d1b6",
   "metadata": {},
   "outputs": [],
   "source": [
    "# Remplacer les virgules par des points et convertir les colonnes nécessaires\n",
    "df['Min'] = df['Min'].astype(str).str.replace(',', '').astype(float)\n",
    "df['Age'] = pd.to_numeric(df['Age'], errors='coerce')\n",
    "df['Gls'] = pd.to_numeric(df['Gls'], errors='coerce')\n",
    "df['Ast'] = pd.to_numeric(df['Ast'], errors='coerce')\n",
    "df['xG.1'] = pd.to_numeric(df['xG.1'], errors='coerce')\n",
    "df['xAG.1'] = pd.to_numeric(df['xAG.1'], errors='coerce')\n",
    "df['xG+xAG'] = pd.to_numeric(df['xG+xAG'], errors='coerce')\n"
   ]
  },
  {
   "cell_type": "markdown",
   "id": "0b0b4d8a",
   "metadata": {},
   "source": [
    "## 3. Analyse exploratoire"
   ]
  },
  {
   "cell_type": "code",
   "execution_count": null,
   "id": "d14d3a00",
   "metadata": {},
   "outputs": [],
   "source": [
    "import matplotlib.pyplot as plt\n",
    "import seaborn as sns\n",
    "\n",
    "# Distribution des xG\n",
    "sns.histplot(df['xG.1'].dropna(), kde=True)\n",
    "plt.title('Distribution des xG')\n",
    "plt.show()\n",
    "\n",
    "# Corrélation entre xG, xAG, Age, Min\n",
    "sns.pairplot(df[['xG.1', 'xAG.1', 'Age', 'Min']].dropna())\n",
    "plt.show()\n"
   ]
  },
  {
   "cell_type": "markdown",
   "id": "d7fc5fbc",
   "metadata": {},
   "source": [
    "## 4. Régression linéaire : prédiction de la note (ex: G+A par 90 min)"
   ]
  },
  {
   "cell_type": "code",
   "execution_count": null,
   "id": "69be48fb",
   "metadata": {},
   "outputs": [],
   "source": [
    "import statsmodels.api as sm\n",
    "\n",
    "# Variable cible (ex: G+A.1)\n",
    "df_model = df[['G+A.1', 'xG.1', 'xAG.1', 'Age', 'Min']].dropna()\n",
    "\n",
    "X = df_model[['xG.1', 'xAG.1', 'Age', 'Min']]\n",
    "X = sm.add_constant(X)\n",
    "y = df_model['G+A.1']\n",
    "\n",
    "model = sm.OLS(y, X).fit()\n",
    "print(model.summary())\n"
   ]
  },
  {
   "cell_type": "markdown",
   "id": "b3d9aaa8",
   "metadata": {},
   "source": [
    "## 5. Visualisation des résidus"
   ]
  },
  {
   "cell_type": "code",
   "execution_count": null,
   "id": "7cf44c7d",
   "metadata": {},
   "outputs": [],
   "source": [
    "# Prédictions vs Réel\n",
    "df_model['predicted'] = model.predict(X)\n",
    "\n",
    "plt.scatter(df_model['predicted'], y)\n",
    "plt.xlabel(\"Valeurs prédites\")\n",
    "plt.ylabel(\"Valeurs observées\")\n",
    "plt.title(\"Prédictions vs Réel\")\n",
    "plt.axline((0, 0), slope=1, color='red')\n",
    "plt.show()\n"
   ]
  },
  {
   "cell_type": "markdown",
   "id": "b1cfe7e1",
   "metadata": {},
   "source": []
  }
 ],
 "metadata": {},
 "nbformat": 4,
 "nbformat_minor": 5
}
